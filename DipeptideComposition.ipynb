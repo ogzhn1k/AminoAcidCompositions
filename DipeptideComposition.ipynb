{
  "nbformat": 4,
  "nbformat_minor": 0,
  "metadata": {
    "colab": {
      "name": "DipeptideComposition.ipynb",
      "provenance": [],
      "collapsed_sections": [],
      "authorship_tag": "ABX9TyNOouQn+5iLlOaAWhAWCba0",
      "include_colab_link": true
    },
    "kernelspec": {
      "name": "python3",
      "display_name": "Python 3"
    },
    "language_info": {
      "name": "python"
    }
  },
  "cells": [
    {
      "cell_type": "markdown",
      "metadata": {
        "id": "view-in-github",
        "colab_type": "text"
      },
      "source": [
        "<a href=\"https://colab.research.google.com/github/ogzhn1k/AminoAcidCompositions/blob/main/DipeptideComposition.ipynb\" target=\"_parent\"><img src=\"https://colab.research.google.com/assets/colab-badge.svg\" alt=\"Open In Colab\"/></a>"
      ]
    },
    {
      "cell_type": "code",
      "execution_count": null,
      "metadata": {
        "colab": {
          "base_uri": "https://localhost:8080/"
        },
        "id": "wR651nve02Ok",
        "outputId": "2aef67c2-88a1-48a5-ae47-2e4b294cba89"
      },
      "outputs": [
        {
          "output_type": "stream",
          "name": "stdout",
          "text": [
            "Requirement already satisfied: propy3 in /usr/local/lib/python3.7/dist-packages (1.1.0)\n"
          ]
        }
      ],
      "source": [
        "!pip install propy3"
      ]
    },
    {
      "cell_type": "code",
      "source": [
        "from propy.GetProteinFromUniprot import GetProteinSequence\n",
        "from propy.AAComposition import CalculateDipeptideComposition"
      ],
      "metadata": {
        "id": "RUzqrzB01Cq9"
      },
      "execution_count": null,
      "outputs": []
    },
    {
      "cell_type": "code",
      "source": [
        "result = CalculateDipeptideComposition(\"MSSGGVVPPSPSVKDKGALSADLIGQETPASPAQRSQRQQPDSSVIASDRANLSPDVAHGEVAAKSKKGVDKAAPIGSGADYSEVEAELEKIGALSSRQPSVPAQEPVQEPRVGTEAALRKASKDKGTLSADLIGQKTPASPAQRSQRKQQDSSVIASDRANLSPGAGHGEVAAKSKKRVDKATLIRNLISSGADYSEVEAELEKIGALSSRQPSVSVQEPVQEPRVGTEAALRKASEEEAKIFSDSVVRLAEGRIRNYLERYNAGEERLGLTSDAIMSYKRELQQKARENGREFTETENTMLWACVNMAALNPDAAASREFARQVNLSHDKRVAKLQPRDQTRWDDPATRDPNRAEFFFPTPKSIRGLPGADKYPRTLARLFPNPEAETPWALESAGRKLVAHIKAGLDVDTFDPSAPIVGKPDAPEQPPIPTGGWSKQEQRKMVDGFLKDMEKAMDATREAVLRSNKERAKQREQRDAQFRNKITQQSIEASIRSLERHGVTVNDEARKAIVERETAIAERVQVRENVRRAKVREEVRRADAELRKLTGVGETESAFAKMGEMGVASSLTPDFYERAKVSKGARAATGMAETKEVSPPAPGFFQRMQKLMQHVVTRVVSKFFNKHAEQPLADQVASAVDNVKAQLRTDDTSKTVEAGVKQEKADLLAKDPLAKAADPLTKTDRRAKTADPLAKTTDQLVKTDNTFAERTAEVQAELEVAGVRFSGQQPGVAVDISDMSATANSRQQQSASERVGQRPTLESAVREFANAVDAASKLEQRTARQQPAIQQPQSARGR\")"
      ],
      "metadata": {
        "id": "CkuJEdPE0-lu"
      },
      "execution_count": null,
      "outputs": []
    },
    {
      "cell_type": "markdown",
      "source": [
        "(data – np.min(data)) / (np.max(data) – np.min(data))."
      ],
      "metadata": {
        "id": "p28EMwdX3NP1"
      }
    },
    {
      "cell_type": "code",
      "source": [
        "#print(result)\n",
        "\n",
        "print(*(result.values()), sep = \", \") \n"
      ],
      "metadata": {
        "colab": {
          "base_uri": "https://localhost:8080/"
        },
        "id": "Qkp0j0BxzdnH",
        "outputId": "1c08363e-99a5-4c29-cc9a-a3e2ac57f677"
      },
      "execution_count": null,
      "outputs": [
        {
          "output_type": "stream",
          "name": "stdout",
          "text": [
            "1.25, 0.88, 0.5, 1.25, 0.13, 1.51, 0.63, 0.75, 0.25, 0.5, 0.88, 1.51, 0.13, 0.13, 0.5, 1.51, 0.63, 0.0, 0.0, 0.63, 1.13, 0.38, 0.38, 0.38, 0.0, 1.25, 0.75, 0.25, 0.13, 0.13, 0.38, 0.88, 0.13, 0.13, 0.13, 0.5, 0.5, 0.13, 0.13, 0.88, 0.25, 0.13, 0.0, 0.13, 0.0, 0.0, 0.0, 0.13, 0.0, 0.0, 0.5, 0.38, 0.13, 0.0, 0.25, 0.13, 0.25, 0.0, 0.13, 0.25, 0.88, 0.38, 0.25, 0.25, 0.0, 0.13, 0.38, 0.13, 0.0, 0.13, 0.38, 0.75, 0.25, 0.13, 0.75, 0.38, 0.25, 0.0, 0.25, 0.25, 0.0, 0.0, 0.0, 0.0, 0.0, 0.0, 0.0, 0.0, 0.0, 0.0, 0.0, 0.0, 0.0, 0.0, 0.0, 0.0, 0.0, 0.0, 0.0, 0.13, 1.25, 1.13, 0.38, 0.0, 0.0, 0.38, 0.63, 0.13, 0.0, 0.0, 0.63, 0.5, 0.13, 0.5, 0.5, 0.38, 0.75, 0.0, 0.0, 1.0, 0.13, 1.25, 0.0, 0.13, 0.0, 0.88, 1.0, 0.0, 0.13, 0.0, 0.25, 0.38, 0.0, 0.13, 1.13, 0.38, 0.13, 0.0, 0.0, 0.38, 1.0, 0.5, 0.0, 0.0, 0.0, 0.63, 0.5, 0.25, 0.13, 0.0, 0.38, 0.13, 0.13, 0.25, 0.0, 0.13, 0.38, 0.13, 0.0, 1.0, 0.13, 0.0, 0.0, 0.13, 0.0, 0.0, 0.0, 0.38, 0.0, 0.13, 0.0, 0.0, 0.0, 0.0, 0.0, 0.0, 0.0, 0.0, 0.0, 0.13, 0.38, 0.5, 0.0, 0.0, 0.0, 0.13, 0.13, 0.63, 0.0, 0.0, 0.0, 0.13, 0.13, 0.13, 0.13, 0.25, 0.13, 0.0, 0.0, 0.25, 0.75, 0.63, 0.13, 0.13, 0.0, 1.0, 0.25, 0.13, 0.0, 0.5, 0.13, 0.13, 0.13, 0.13, 0.13, 0.88, 0.5, 0.13, 0.0, 0.25, 1.38, 0.38, 0.0, 0.5, 0.0, 0.25, 0.5, 0.5, 0.13, 0.5, 0.63, 0.25, 0.25, 0.13, 0.13, 0.38, 0.75, 0.0, 0.13, 0.25, 0.25, 0.0, 0.0, 0.13, 0.0, 0.13, 0.25, 0.25, 0.0, 0.0, 0.13, 0.0, 0.0, 0.0, 0.0, 0.38, 0.0, 0.0, 0.0, 0.13, 0.5, 0.13, 0.13, 0.13, 0.0, 0.0, 0.13, 0.0, 0.0, 0.0, 0.13, 0.0, 0.0, 0.38, 0.25, 0.25, 0.13, 0.0, 0.13, 0.0, 1.0, 0.5, 0.25, 0.63, 0.0, 0.25, 0.13, 0.5, 0.0, 0.38, 0.5, 0.13, 0.0, 0.0, 0.38, 0.63, 0.38, 0.13, 0.0, 0.25, 1.25, 0.5, 0.13, 0.63, 0.0, 0.5, 0.25, 0.5, 0.13, 0.38, 0.25, 1.0, 0.0, 0.0, 0.75, 0.88, 0.0, 0.0, 0.13, 0.88, 0.63, 0.5, 0.0, 0.5, 0.0, 0.63, 0.13, 0.38, 0.0, 0.0, 0.5, 0.25, 0.13, 0.25, 0.63, 0.25, 0.13, 0.0, 0.0, 0.25, 0.25, 0.0, 0.0, 0.13, 0.0, 0.0, 0.0, 0.0, 0.0, 0.0, 0.0, 0.0, 0.0, 0.0, 0.0, 0.13, 0.0, 0.0, 0.0, 0.0, 0.0, 0.0, 0.13, 0.0, 0.0, 0.13, 0.0, 0.0, 0.0, 0.0, 0.13, 0.13, 0.0, 0.0, 0.13, 0.25, 0.0, 0.0, 0.0, 0.0, 1.13, 0.88, 0.38, 0.88, 0.0, 0.5, 0.63, 0.63, 0.0, 0.25, 0.13, 0.5, 0.0, 0.0, 0.25, 0.5, 0.25, 0.0, 0.0, 0.5\n"
          ]
        }
      ]
    },
    {
      "cell_type": "code",
      "source": [
        "dpList = []"
      ],
      "metadata": {
        "id": "lrZBzFyv6XPF"
      },
      "execution_count": null,
      "outputs": []
    },
    {
      "cell_type": "code",
      "source": [
        "for item in result.values():\n",
        "  #print(item)\n",
        "  dpList.append(item)"
      ],
      "metadata": {
        "id": "HPJY58372Ivf"
      },
      "execution_count": null,
      "outputs": []
    },
    {
      "cell_type": "code",
      "source": [
        "def findMinMax(dpList):\n",
        "  min = 0.0\n",
        "  max = 0.0\n",
        "  for item in dpList :\n",
        "    if max < item :\n",
        "      max = item\n",
        "    if min > item :\n",
        "      min = item\n",
        "\n",
        "  return min,max\n",
        "\n",
        "\n",
        "def findSum(dpList):\n",
        "  sum = 0\n",
        "  for item in dpList:\n",
        "    sum+=item\n",
        "  return sum"
      ],
      "metadata": {
        "id": "RVNDehrS6p_9"
      },
      "execution_count": null,
      "outputs": []
    },
    {
      "cell_type": "code",
      "source": [
        "min,max = findMinMax(dpList)\n",
        "print(min)\n",
        "print(max)"
      ],
      "metadata": {
        "colab": {
          "base_uri": "https://localhost:8080/"
        },
        "id": "fghoPHWW7giO",
        "outputId": "c28a3fc1-e565-4856-d2bc-4208bfe1ee04"
      },
      "execution_count": null,
      "outputs": [
        {
          "output_type": "stream",
          "name": "stdout",
          "text": [
            "0.0\n",
            "1.51\n"
          ]
        }
      ]
    },
    {
      "cell_type": "code",
      "source": [
        "# for item in dpList:\n",
        "#   num = (item-min)/(max-min)\n",
        "#   resultList.append(num)\n",
        "sum = findSum(dpList)\n",
        "sum"
      ],
      "metadata": {
        "id": "_3KWVwrf3_I2",
        "colab": {
          "base_uri": "https://localhost:8080/"
        },
        "outputId": "f1df02cd-0cb3-47d3-d499-01f6c117c258"
      },
      "execution_count": null,
      "outputs": [
        {
          "output_type": "execute_result",
          "data": {
            "text/plain": [
              "99.88999999999987"
            ]
          },
          "metadata": {},
          "execution_count": 134
        }
      ]
    },
    {
      "cell_type": "code",
      "source": [
        "for i, item in enumerate(dpList):\n",
        "  #print(item)\n",
        "  #num = (item-min)/(max-min)\n",
        "  dpList[i] = item / sum\n",
        "  "
      ],
      "metadata": {
        "id": "XGTr9-j0-BXF"
      },
      "execution_count": null,
      "outputs": []
    },
    {
      "cell_type": "code",
      "source": [
        "# for item in resultList :\n",
        "#   print(item)\n",
        "\n",
        "print(*(dpList), sep = \", \") "
      ],
      "metadata": {
        "colab": {
          "base_uri": "https://localhost:8080/"
        },
        "id": "pwbG81jt707M",
        "outputId": "22a16a17-5c67-407e-a618-9579b04237dd"
      },
      "execution_count": null,
      "outputs": [
        {
          "output_type": "stream",
          "name": "stdout",
          "text": [
            "0.012513765141655838, 0.00880969065972571, 0.005005506056662335, 0.012513765141655838, 0.0013014315747322072, 0.015116628291120251, 0.006306937631394542, 0.0075082590849935025, 0.0025027530283311676, 0.005005506056662335, 0.00880969065972571, 0.015116628291120251, 0.0013014315747322072, 0.0013014315747322072, 0.005005506056662335, 0.015116628291120251, 0.006306937631394542, 0.0, 0.0, 0.006306937631394542, 0.011312443688056876, 0.003804184603063375, 0.003804184603063375, 0.003804184603063375, 0.0, 0.012513765141655838, 0.0075082590849935025, 0.0025027530283311676, 0.0013014315747322072, 0.0013014315747322072, 0.003804184603063375, 0.00880969065972571, 0.0013014315747322072, 0.0013014315747322072, 0.0013014315747322072, 0.005005506056662335, 0.005005506056662335, 0.0013014315747322072, 0.0013014315747322072, 0.00880969065972571, 0.0025027530283311676, 0.0013014315747322072, 0.0, 0.0013014315747322072, 0.0, 0.0, 0.0, 0.0013014315747322072, 0.0, 0.0, 0.005005506056662335, 0.003804184603063375, 0.0013014315747322072, 0.0, 0.0025027530283311676, 0.0013014315747322072, 0.0025027530283311676, 0.0, 0.0013014315747322072, 0.0025027530283311676, 0.00880969065972571, 0.003804184603063375, 0.0025027530283311676, 0.0025027530283311676, 0.0, 0.0013014315747322072, 0.003804184603063375, 0.0013014315747322072, 0.0, 0.0013014315747322072, 0.003804184603063375, 0.0075082590849935025, 0.0025027530283311676, 0.0013014315747322072, 0.0075082590849935025, 0.003804184603063375, 0.0025027530283311676, 0.0, 0.0025027530283311676, 0.0025027530283311676, 0.0, 0.0, 0.0, 0.0, 0.0, 0.0, 0.0, 0.0, 0.0, 0.0, 0.0, 0.0, 0.0, 0.0, 0.0, 0.0, 0.0, 0.0, 0.0, 0.0013014315747322072, 0.012513765141655838, 0.011312443688056876, 0.003804184603063375, 0.0, 0.0, 0.003804184603063375, 0.006306937631394542, 0.0013014315747322072, 0.0, 0.0, 0.006306937631394542, 0.005005506056662335, 0.0013014315747322072, 0.005005506056662335, 0.005005506056662335, 0.003804184603063375, 0.0075082590849935025, 0.0, 0.0, 0.01001101211332467, 0.0013014315747322072, 0.012513765141655838, 0.0, 0.0013014315747322072, 0.0, 0.00880969065972571, 0.01001101211332467, 0.0, 0.0013014315747322072, 0.0, 0.0025027530283311676, 0.003804184603063375, 0.0, 0.0013014315747322072, 0.011312443688056876, 0.003804184603063375, 0.0013014315747322072, 0.0, 0.0, 0.003804184603063375, 0.01001101211332467, 0.005005506056662335, 0.0, 0.0, 0.0, 0.006306937631394542, 0.005005506056662335, 0.0025027530283311676, 0.0013014315747322072, 0.0, 0.003804184603063375, 0.0013014315747322072, 0.0013014315747322072, 0.0025027530283311676, 0.0, 0.0013014315747322072, 0.003804184603063375, 0.0013014315747322072, 0.0, 0.01001101211332467, 0.0013014315747322072, 0.0, 0.0, 0.0013014315747322072, 0.0, 0.0, 0.0, 0.003804184603063375, 0.0, 0.0013014315747322072, 0.0, 0.0, 0.0, 0.0, 0.0, 0.0, 0.0, 0.0, 0.0, 0.0013014315747322072, 0.003804184603063375, 0.005005506056662335, 0.0, 0.0, 0.0, 0.0013014315747322072, 0.0013014315747322072, 0.006306937631394542, 0.0, 0.0, 0.0, 0.0013014315747322072, 0.0013014315747322072, 0.0013014315747322072, 0.0013014315747322072, 0.0025027530283311676, 0.0013014315747322072, 0.0, 0.0, 0.0025027530283311676, 0.0075082590849935025, 0.006306937631394542, 0.0013014315747322072, 0.0013014315747322072, 0.0, 0.01001101211332467, 0.0025027530283311676, 0.0013014315747322072, 0.0, 0.005005506056662335, 0.0013014315747322072, 0.0013014315747322072, 0.0013014315747322072, 0.0013014315747322072, 0.0013014315747322072, 0.00880969065972571, 0.005005506056662335, 0.0013014315747322072, 0.0, 0.0025027530283311676, 0.013815196716388043, 0.003804184603063375, 0.0, 0.005005506056662335, 0.0, 0.0025027530283311676, 0.005005506056662335, 0.005005506056662335, 0.0013014315747322072, 0.005005506056662335, 0.006306937631394542, 0.0025027530283311676, 0.0025027530283311676, 0.0013014315747322072, 0.0013014315747322072, 0.003804184603063375, 0.0075082590849935025, 0.0, 0.0013014315747322072, 0.0025027530283311676, 0.0025027530283311676, 0.0, 0.0, 0.0013014315747322072, 0.0, 0.0013014315747322072, 0.0025027530283311676, 0.0025027530283311676, 0.0, 0.0, 0.0013014315747322072, 0.0, 0.0, 0.0, 0.0, 0.003804184603063375, 0.0, 0.0, 0.0, 0.0013014315747322072, 0.005005506056662335, 0.0013014315747322072, 0.0013014315747322072, 0.0013014315747322072, 0.0, 0.0, 0.0013014315747322072, 0.0, 0.0, 0.0, 0.0013014315747322072, 0.0, 0.0, 0.003804184603063375, 0.0025027530283311676, 0.0025027530283311676, 0.0013014315747322072, 0.0, 0.0013014315747322072, 0.0, 0.01001101211332467, 0.005005506056662335, 0.0025027530283311676, 0.006306937631394542, 0.0, 0.0025027530283311676, 0.0013014315747322072, 0.005005506056662335, 0.0, 0.003804184603063375, 0.005005506056662335, 0.0013014315747322072, 0.0, 0.0, 0.003804184603063375, 0.006306937631394542, 0.003804184603063375, 0.0013014315747322072, 0.0, 0.0025027530283311676, 0.012513765141655838, 0.005005506056662335, 0.0013014315747322072, 0.006306937631394542, 0.0, 0.005005506056662335, 0.0025027530283311676, 0.005005506056662335, 0.0013014315747322072, 0.003804184603063375, 0.0025027530283311676, 0.01001101211332467, 0.0, 0.0, 0.0075082590849935025, 0.00880969065972571, 0.0, 0.0, 0.0013014315747322072, 0.00880969065972571, 0.006306937631394542, 0.005005506056662335, 0.0, 0.005005506056662335, 0.0, 0.006306937631394542, 0.0013014315747322072, 0.003804184603063375, 0.0, 0.0, 0.005005506056662335, 0.0025027530283311676, 0.0013014315747322072, 0.0025027530283311676, 0.006306937631394542, 0.0025027530283311676, 0.0013014315747322072, 0.0, 0.0, 0.0025027530283311676, 0.0025027530283311676, 0.0, 0.0, 0.0013014315747322072, 0.0, 0.0, 0.0, 0.0, 0.0, 0.0, 0.0, 0.0, 0.0, 0.0, 0.0, 0.0013014315747322072, 0.0, 0.0, 0.0, 0.0, 0.0, 0.0, 0.0013014315747322072, 0.0, 0.0, 0.0013014315747322072, 0.0, 0.0, 0.0, 0.0, 0.0013014315747322072, 0.0013014315747322072, 0.0, 0.0, 0.0013014315747322072, 0.0025027530283311676, 0.0, 0.0, 0.0, 0.0, 0.011312443688056876, 0.00880969065972571, 0.003804184603063375, 0.00880969065972571, 0.0, 0.005005506056662335, 0.006306937631394542, 0.006306937631394542, 0.0, 0.0025027530283311676, 0.0013014315747322072, 0.005005506056662335, 0.0, 0.0, 0.0025027530283311676, 0.005005506056662335, 0.0025027530283311676, 0.0, 0.0, 0.005005506056662335\n"
          ]
        }
      ]
    },
    {
      "cell_type": "code",
      "source": [
        "findSum(dpList)"
      ],
      "metadata": {
        "colab": {
          "base_uri": "https://localhost:8080/"
        },
        "id": "8EXXqREaAkDM",
        "outputId": "288a160c-44fa-42a8-92b5-2cb2e3607b2c"
      },
      "execution_count": null,
      "outputs": [
        {
          "output_type": "execute_result",
          "data": {
            "text/plain": [
              "1.0000000000000009"
            ]
          },
          "metadata": {},
          "execution_count": 138
        }
      ]
    },
    {
      "cell_type": "code",
      "source": [
        "def findDpListFromTxt(line):\n",
        "  result = CalculateDipeptideComposition(line)\n",
        "  dpList = []\n",
        "  for item in result.values():\n",
        "     dpList.append(item)\n",
        "\n",
        "  min,max = findMinMax(dpList)\n",
        "  sum = findSum(dpList)\n",
        "   \n",
        "  #if sum != 0 : \n",
        "  for i, item in enumerate(dpList):\n",
        "    dpList[i] = item / sum\n",
        "\n",
        "  return dpList"
      ],
      "metadata": {
        "id": "nixe3nqzA7h9"
      },
      "execution_count": null,
      "outputs": []
    },
    {
      "cell_type": "code",
      "source": [
        "fw = open(\"/content/iva-N.txt\", 'w')"
      ],
      "metadata": {
        "id": "wKQYvdt_LzqR"
      },
      "execution_count": null,
      "outputs": []
    },
    {
      "cell_type": "code",
      "source": [
        "entireLine = \"\"\n",
        "isFirst = True\n",
        "lines = []\n",
        "count = 0\n",
        "with open('/content/iva_raw.txt') as f:\n",
        "    lines = f.readlines()\n",
        "\n",
        "\n",
        "for line in lines:\n",
        "    if line.startswith('>') == False: \n",
        "      entireLine+=line\n",
        "    \n",
        "    else:\n",
        "      if isFirst == False:\n",
        "        #print(entireLine)\n",
        "        dpList = findDpListFromTxt(entireLine)\n",
        "        count = count + 1\n",
        "        #print(*(dpList), sep = \", \")\n",
        "        print(len(dpList))\n",
        "        for value in dpList:\n",
        "          fw.write(str(value)+\",\")\n",
        "        \n",
        "        fw.write(\"eff\")\n",
        "        fw.write(\"\\r\\n\")\n",
        "\n",
        "        entireLine = \"\"\n",
        "      isFirst = False"
      ],
      "metadata": {
        "id": "hruXBJAPEeht"
      },
      "execution_count": null,
      "outputs": []
    },
    {
      "cell_type": "code",
      "source": [
        "count"
      ],
      "metadata": {
        "colab": {
          "base_uri": "https://localhost:8080/"
        },
        "id": "rK2WQAm_WdfX",
        "outputId": "d124b4ab-229d-44fa-fd6d-ae6067c9a515"
      },
      "execution_count": null,
      "outputs": [
        {
          "output_type": "execute_result",
          "data": {
            "text/plain": [
              "29"
            ]
          },
          "metadata": {},
          "execution_count": 201
        }
      ]
    },
    {
      "cell_type": "code",
      "source": [
        ""
      ],
      "metadata": {
        "id": "gnAgdzc1LJ8p"
      },
      "execution_count": null,
      "outputs": []
    }
  ]
}